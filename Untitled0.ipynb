{
  "nbformat": 4,
  "nbformat_minor": 0,
  "metadata": {
    "colab": {
      "name": "Untitled0.ipynb",
      "provenance": [],
      "authorship_tag": "ABX9TyNzCyebmj0p3CI85Zm96P7o",
      "include_colab_link": true
    },
    "kernelspec": {
      "name": "python3",
      "display_name": "Python 3"
    },
    "language_info": {
      "name": "python"
    }
  },
  "cells": [
    {
      "cell_type": "markdown",
      "metadata": {
        "id": "view-in-github",
        "colab_type": "text"
      },
      "source": [
        "<a href=\"https://colab.research.google.com/github/Mohamed-inas/Mohamed-inas/blob/main/Untitled0.ipynb\" target=\"_parent\"><img src=\"https://colab.research.google.com/assets/colab-badge.svg\" alt=\"Open In Colab\"/></a>"
      ]
    },
    {
      "cell_type": "code",
      "execution_count": null,
      "metadata": {
        "id": "SG39W0jHUQdX"
      },
      "outputs": [],
      "source": [
        "from typing import ValuesView\n",
        "#database importing from local machine\n",
        "#from google.colab import files\n",
        "#upload = files.upload()\n",
        "#import libraries\n",
        "import pandas as pd\n",
        "import numpy as np\n",
        "import matplotlib.pyplot as plt\n",
        "\n",
        "#import database\n",
        "dataset = pd.read_csv('salary_data.csv')\n",
        "x = dataset.iloc[:,0:-1].Values\n",
        "y = dataset.iloc[:,1].values\n",
        "\n",
        "#split database as train and test\n",
        "from sklearn.model_selection import train_test_split\n",
        "x_train , x_test , y_train , y_test = train_test_split(x,y,test_size=,30 , random_state = 0)\n",
        "\n",
        "\n",
        "\n",
        "\n",
        "#building model\n",
        "from sklearn,linear_model import LinearRegression\n",
        "regress = LinearRegression()\n",
        "regress.fit(x_train , y_train)\n",
        "\n"
      ]
    }
  ]
}