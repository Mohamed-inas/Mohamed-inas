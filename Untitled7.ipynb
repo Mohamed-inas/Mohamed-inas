#operation program
print("Choice 1:Add, 2:Sub, 3:Div, 4:Mul, 5:Quit")
n1=input("Enter the choice of operation : ")
n=int(n1)
if(n==1):
  print("You have choosen addition operation.")
  a1=input("Enter the value for A: ")
  b1=input("Enter the value for B: ")
  a=int(a1)
  b=int(b1)
  c=a+b
  print("The Result",a,"+",b,"=",c)
elif(n==2):
  print("you have choosen subtraction operation.")
  a1=input("Enter the value for A: ")
  b1=input("Enter the value for B: ")
  a=int(a1)
  b=int(b1)
  c=a-b
  print("The Result",a,"-",b,"=",c)
elif(n==3):
  print("you have choosen division operation.")
  a1=input("Enter thr value for A: ")
  b1=input("Enter the value for B: ")
  a=int(a1)
  b=int(b1)
  c=a/b
  print("The Result",a,"/",b,"=",c)
elif(n==4):
  print("you have choosen multiplication operation.")
  a1=input("Enter the value for A: ")
  b1=input("Enter the value for B: ")
  a=int(a1)
  b=int(b1)
  c=a*b
  print("The Result",a,"*",b,"=",c)
elif(n==5):
  print("quit the operation")
  exit()

Choice 1:Add, 2:Sub, 3:Div, 4:Mul, 5:Quit
Enter the choice of operation : 3
you have choosen division operation.
Enter thr value for A: 30
Enter the value for B: 20
The Result 30 / 20 = 1.5

#fibonacci series
print("Fibonacci Series")
n1=input("Enter the number: ")
n=int(n1)
if(n>0):
  f=0
  s=1
  i=0
  next=0
  while(1):
    print("\n\n*******************************************")
    for i in range(n+1):
      if(i<=1):
        print(i)
      else:
        next=f+s
        f=s
        s=next
        print(next)
    i=i+1
    break
else:
  print("you have entered wrong input",n)
  exit()

Fibonacci Series
Enter the number: 10


*******************************************
0
1
1
2
3
5
8
13
21
34
55


#arithmetic operation
value1=eval(input("Enter the first number: "))
value2=eval(input("Enter the second number: "))
sum=value1+value2
print(value1,'+',value2,'=',sum)

Enter the first number: 30
Enter the second number: 24
30 + 24 = 54

#arithmetic operators
x=30
y=24
print('x+y=',x+y)
print('x-y=',x-y)
print('x*y=',x*y)
print('x/y=',x/y)
print('x//y=',x//y)
print('x**y=',x**y)

x+y= 54
x-y= 6
x*y= 720
x/y= 1.25
x//y= 1
x**y= 2824295364810000000000000000000000

#comparsion operators
x=10
y=5
print("x > y is",x>y)
print("x < y is",x<y)
print("x == y is",x==y)
print("x != y is",x!=y)
print("x >= y is",x>=y)
print("x <= y is",x<=y)

x > y is True
x < y is False
x == y is False
x != y is True
x >= y is True
x <= y is False

#logical operators
x=True
y=False
print("x and y is", x and y)
print("x or y is", x or y)
print("not x is",  not x)

x and y is False
x or y is True
not x is False

#identity operators
x1=5
y1=5
x2='Hello'
y2='Hello'
x3=[1,2,3]
y3=[1,2,3]
print(x1 is not y1)
print(x2 is y2)
print(x3 is not y3)

False
True
True

#membership operators
x='Hello World'
y={1:'a',2:'b'}
print('E' in x)
print("hello" not in x)
print(2 in y)
print('a' in y)

False
True
True
False

#shift operators
a=15
b=-15
print("a>>1=",a>>1)
print("b>>1=",b>>1)

a>>1= 7
b>>1= -8







