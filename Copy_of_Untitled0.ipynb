{
  "nbformat": 4,
  "nbformat_minor": 0,
  "metadata": {
    "colab": {
      "name": "Copy of Untitled0.ipynb",
      "provenance": [],
      "collapsed_sections": [],
      "include_colab_link": true
    },
    "kernelspec": {
      "name": "python3",
      "display_name": "Python 3"
    },
    "language_info": {
      "name": "python"
    }
  },
  "cells": [
    {
      "cell_type": "markdown",
      "metadata": {
        "id": "view-in-github",
        "colab_type": "text"
      },
      "source": [
        "<a href=\"https://colab.research.google.com/github/Mohamed-inas/Mohamed-inas/blob/main/Copy_of_Untitled0.ipynb\" target=\"_parent\"><img src=\"https://colab.research.google.com/assets/colab-badge.svg\" alt=\"Open In Colab\"/></a>"
      ]
    },
    {
      "cell_type": "code",
      "execution_count": null,
      "metadata": {
        "colab": {
          "base_uri": "https://localhost:8080/"
        },
        "id": "WicGK_w8_oDB",
        "outputId": "9ac700d4-896f-49fb-a87a-cc69d256f70f"
      },
      "outputs": [
        {
          "output_type": "stream",
          "name": "stdout",
          "text": [
            "Choice 1:Add, 2:Sub, 3:Div, 4:Mul, 5:Quit\n",
            "Enter the choice of operation : 3\n",
            "you have choosen division operation.\n",
            "Enter thr value for A: 30\n",
            "Enter the value for B: 20\n",
            "The Result 30 / 20 = 1.5\n"
          ]
        }
      ],
      "source": [
        "#operation program\n",
        "print(\"Choice 1:Add, 2:Sub, 3:Div, 4:Mul, 5:Quit\")\n",
        "n1=input(\"Enter the choice of operation : \")\n",
        "n=int(n1)\n",
        "if(n==1):\n",
        "  print(\"You have choosen addition operation.\")\n",
        "  a1=input(\"Enter the value for A: \")\n",
        "  b1=input(\"Enter the value for B: \")\n",
        "  a=int(a1)\n",
        "  b=int(b1)\n",
        "  c=a+b\n",
        "  print(\"The Result\",a,\"+\",b,\"=\",c)\n",
        "elif(n==2):\n",
        "  print(\"you have choosen subtraction operation.\")\n",
        "  a1=input(\"Enter the value for A: \")\n",
        "  b1=input(\"Enter the value for B: \")\n",
        "  a=int(a1)\n",
        "  b=int(b1)\n",
        "  c=a-b\n",
        "  print(\"The Result\",a,\"-\",b,\"=\",c)\n",
        "elif(n==3):\n",
        "  print(\"you have choosen division operation.\")\n",
        "  a1=input(\"Enter thr value for A: \")\n",
        "  b1=input(\"Enter the value for B: \")\n",
        "  a=int(a1)\n",
        "  b=int(b1)\n",
        "  c=a/b\n",
        "  print(\"The Result\",a,\"/\",b,\"=\",c)\n",
        "elif(n==4):\n",
        "  print(\"you have choosen multiplication operation.\")\n",
        "  a1=input(\"Enter the value for A: \")\n",
        "  b1=input(\"Enter the value for B: \")\n",
        "  a=int(a1)\n",
        "  b=int(b1)\n",
        "  c=a*b\n",
        "  print(\"The Result\",a,\"*\",b,\"=\",c)\n",
        "elif(n==5):\n",
        "  print(\"quit the operation\")\n",
        "  exit()"
      ]
    },
    {
      "cell_type": "code",
      "source": [
        ""
      ],
      "metadata": {
        "id": "r879mwSgEijc"
      },
      "execution_count": null,
      "outputs": []
    },
    {
      "cell_type": "code",
      "source": [
        "#fibonacci series\n",
        "print(\"Fibonacci Series\")\n",
        "n1=input(\"Enter the number: \")\n",
        "n=int(n1)\n",
        "if(n>0):\n",
        "  f=0\n",
        "  s=1\n",
        "  i=0\n",
        "  next=0\n",
        "  while(1):\n",
        "    print(\"\\n\\n*******************************************\")\n",
        "    for i in range(n+1):\n",
        "      if(i<=1):\n",
        "        print(i)\n",
        "      else:\n",
        "        next=f+s\n",
        "        f=s\n",
        "        s=next\n",
        "        print(next)\n",
        "    i=i+1\n",
        "    break\n",
        "else:\n",
        "  print(\"you have entered wrong input\",n)\n",
        "  exit()"
      ],
      "metadata": {
        "id": "5p-7Ame3FS7_",
        "colab": {
          "base_uri": "https://localhost:8080/"
        },
        "outputId": "0ff74f78-e40a-4148-ae8e-56f02ef07d10"
      },
      "execution_count": null,
      "outputs": [
        {
          "output_type": "stream",
          "name": "stdout",
          "text": [
            "Fibonacci Series\n",
            "Enter the number: 10\n",
            "\n",
            "\n",
            "*******************************************\n",
            "0\n",
            "1\n",
            "1\n",
            "2\n",
            "3\n",
            "5\n",
            "8\n",
            "13\n",
            "21\n",
            "34\n",
            "55\n"
          ]
        }
      ]
    },
    {
      "cell_type": "code",
      "source": [
        "#arithmetic operation\n",
        "value1=eval(input(\"Enter the first number: \"))\n",
        "value2=eval(input(\"Enter the second number: \"))\n",
        "sum=value1+value2\n",
        "print(value1,'+',value2,'=',sum)"
      ],
      "metadata": {
        "colab": {
          "base_uri": "https://localhost:8080/"
        },
        "id": "kUodis4rIBxn",
        "outputId": "d9e8e27a-bbab-42d7-cd07-6281963a4d7c"
      },
      "execution_count": null,
      "outputs": [
        {
          "output_type": "stream",
          "name": "stdout",
          "text": [
            "Enter the first number: 30\n",
            "Enter the second number: 24\n",
            "30 + 24 = 54\n"
          ]
        }
      ]
    },
    {
      "cell_type": "code",
      "source": [
        "#arithmetic operators\n",
        "x=30\n",
        "y=24\n",
        "print('x+y=',x+y)\n",
        "print('x-y=',x-y)\n",
        "print('x*y=',x*y)\n",
        "print('x/y=',x/y)\n",
        "print('x//y=',x//y)\n",
        "print('x**y=',x**y)"
      ],
      "metadata": {
        "colab": {
          "base_uri": "https://localhost:8080/"
        },
        "id": "DL7C6gswO0IX",
        "outputId": "419c6ff1-14a0-4a5d-f469-eae6900ecb73"
      },
      "execution_count": null,
      "outputs": [
        {
          "output_type": "stream",
          "name": "stdout",
          "text": [
            "x+y= 54\n",
            "x-y= 6\n",
            "x*y= 720\n",
            "x/y= 1.25\n",
            "x//y= 1\n",
            "x**y= 282429536481000000000000000000000000\n"
          ]
        }
      ]
    },
    {
      "cell_type": "code",
      "source": [
        "#comparsion operators\n",
        "x=10\n",
        "y=5\n",
        "print(\"x > y is\",x>y)\n",
        "print(\"x < y is\",x<y)\n",
        "print(\"x == y is\",x==y)\n",
        "print(\"x != y is\",x!=y)\n",
        "print(\"x >= y is\",x>=y)\n",
        "print(\"x <= y is\",x<=y)"
      ],
      "metadata": {
        "colab": {
          "base_uri": "https://localhost:8080/"
        },
        "id": "JxbSX-FHPTko",
        "outputId": "4a0f6ef6-845a-4476-ca67-0bc7886fe149"
      },
      "execution_count": null,
      "outputs": [
        {
          "output_type": "stream",
          "name": "stdout",
          "text": [
            "x > y is True\n",
            "x < y is False\n",
            "x == y is False\n",
            "x != y is True\n",
            "x >= y is True\n",
            "x <= y is False\n"
          ]
        }
      ]
    },
    {
      "cell_type": "code",
      "source": [
        "#logical operators\n",
        "x=True\n",
        "y=False\n",
        "print(\"x and y is\", x and y)\n",
        "print(\"x or y is\", x or y)\n",
        "print(\"not x is\",  not x)"
      ],
      "metadata": {
        "id": "EPp7queSQ3L_",
        "colab": {
          "base_uri": "https://localhost:8080/"
        },
        "outputId": "e285539d-ad21-4c57-92ec-828c94d699b1"
      },
      "execution_count": null,
      "outputs": [
        {
          "output_type": "stream",
          "name": "stdout",
          "text": [
            "x and y is False\n",
            "x or y is True\n",
            "not x is False\n"
          ]
        }
      ]
    },
    {
      "cell_type": "code",
      "source": [
        "#identity operators\n",
        "x1=5\n",
        "y1=5\n",
        "x2='Hello'\n",
        "y2='Hello'\n",
        "x3=[1,2,3]\n",
        "y3=[1,2,3]\n",
        "print(x1 is not y1)\n",
        "print(x2 is y2)\n",
        "print(x3 is not y3)"
      ],
      "metadata": {
        "colab": {
          "base_uri": "https://localhost:8080/"
        },
        "id": "LSuqLE8mRtuB",
        "outputId": "3b31a991-dad7-42b0-bad1-816315a5f2f7"
      },
      "execution_count": null,
      "outputs": [
        {
          "output_type": "stream",
          "name": "stdout",
          "text": [
            "False\n",
            "True\n",
            "True\n"
          ]
        }
      ]
    },
    {
      "cell_type": "code",
      "source": [
        "#membership operators\n",
        "x='Hello World'\n",
        "y={1:'a',2:'b'}\n",
        "print('E' in x)\n",
        "print(\"hello\" not in x)\n",
        "print(2 in y)\n",
        "print('a' in y)"
      ],
      "metadata": {
        "colab": {
          "base_uri": "https://localhost:8080/"
        },
        "id": "K9tOyT9xSPBN",
        "outputId": "0c738761-d14b-4177-99f3-43cc55fdac77"
      },
      "execution_count": null,
      "outputs": [
        {
          "output_type": "stream",
          "name": "stdout",
          "text": [
            "False\n",
            "True\n",
            "True\n",
            "False\n"
          ]
        }
      ]
    },
    {
      "cell_type": "code",
      "source": [
        "#shift operators\n",
        "a=15\n",
        "b=-15\n",
        "print(\"a>>1=\",a>>1)\n",
        "print(\"b>>1=\",b>>1)"
      ],
      "metadata": {
        "colab": {
          "base_uri": "https://localhost:8080/"
        },
        "id": "Re32OZ3fS2aY",
        "outputId": "1cd1d688-20c2-42a3-e81d-99738f226700"
      },
      "execution_count": null,
      "outputs": [
        {
          "output_type": "stream",
          "name": "stdout",
          "text": [
            "a>>1= 7\n",
            "b>>1= -8\n"
          ]
        }
      ]
    }
  ]
}